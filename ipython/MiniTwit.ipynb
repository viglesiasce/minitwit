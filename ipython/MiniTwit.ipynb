{
 "metadata": {
  "name": ""
 },
 "nbformat": 3,
 "nbformat_minor": 0,
 "worksheets": [
  {
   "cells": [
    {
     "cell_type": "markdown",
     "metadata": {},
     "source": [
      "## Creating our test fixture\n",
      " - Import necessary Libraries\n",
      " - Create a temporary database\n",
      " - Create method to teadown the database"
     ]
    },
    {
     "cell_type": "code",
     "collapsed": false,
     "input": [
      "import os\n",
      "import minitwit\n",
      "import tempfile\n",
      "import pytest\n",
      "@pytest.fixture\n",
      "def client(request):\n",
      "    db_fd, minitwit.app.config['DATABASE'] = tempfile.mkstemp()\n",
      "    client = minitwit.app.test_client()\n",
      "    with minitwit.app.app_context():\n",
      "        minitwit.init_db()\n",
      "\n",
      "    def teardown():\n",
      "        \"\"\"Get rid of the database again after each test.\"\"\"\n",
      "        os.close(db_fd)\n",
      "        os.unlink(minitwit.app.config['DATABASE'])\n",
      "    request.addfinalizer(teardown)\n",
      "    return client"
     ],
     "language": "python",
     "metadata": {},
     "outputs": [],
     "prompt_number": 1
    },
    {
     "cell_type": "markdown",
     "metadata": {},
     "source": [
      "## Create our register, login, and logout helper functions\n",
      "- Calls our API using HTTP with the correct paths and parameters/data "
     ]
    },
    {
     "cell_type": "code",
     "collapsed": false,
     "input": [
      "def register(client, username, password, password2=None, email=None):\n",
      "    \"\"\"Helper function to register a user\"\"\"\n",
      "    if password2 is None:\n",
      "        password2 = password\n",
      "    if email is None:\n",
      "        email = username + '@example.com'\n",
      "    return client.post('/register', data={\n",
      "        'username':     username,\n",
      "        'password':     password,\n",
      "        'password2':    password2,\n",
      "        'email':        email,\n",
      "    }, follow_redirects=True)\n",
      "\n",
      "\n",
      "def login(client, username, password):\n",
      "    \"\"\"Helper function to login\"\"\"\n",
      "    return client.post('/login', data={\n",
      "        'username': username,\n",
      "        'password': password\n",
      "    }, follow_redirects=True)\n",
      "\n",
      "\n",
      "def register_and_login(client, username, password):\n",
      "    \"\"\"Registers and logs in in one go\"\"\"\n",
      "    register(client, username, password)\n",
      "    return login(client, username, password)\n",
      "\n",
      "\n",
      "def logout(client):\n",
      "    \"\"\"Helper function to logout\"\"\"\n",
      "    return client.get('/logout', follow_redirects=True)"
     ],
     "language": "python",
     "metadata": {},
     "outputs": [],
     "prompt_number": 2
    },
    {
     "cell_type": "markdown",
     "metadata": {},
     "source": [
      "## Create a test for registering a new user\n",
      "- Checks return value from the service on success\n",
      "- Checks that duplicate users cannot be created\n",
      "- Checks that the username and password cannot be blank\n",
      "- Checks that password and password confirmation are equivalent"
     ]
    },
    {
     "cell_type": "code",
     "collapsed": false,
     "input": [
      "def test_register(client):\n",
      "    \"\"\"Make sure registering works\"\"\"\n",
      "    rv = register(client, 'user1', 'default')\n",
      "    assert b'You were successfully registered ' \\\n",
      "           b'and can login now' in rv.data\n",
      "    rv = register(client, 'user1', 'default')\n",
      "    assert b'The username is already taken' in rv.data\n",
      "    rv = register(client, '', 'default')\n",
      "    assert b'You have to enter a username' in rv.data\n",
      "    rv = register(client, 'meh', '')\n",
      "    assert b'You have to enter a password' in rv.data\n",
      "    rv = register(client, 'meh', 'x', 'y')\n",
      "    assert b'The two passwords do not match' in rv.data\n",
      "    rv = register(client, 'meh', 'foo', email='broken')\n",
      "    assert b'You have to enter a valid email address' in rv.data"
     ],
     "language": "python",
     "metadata": {},
     "outputs": [],
     "prompt_number": 3
    },
    {
     "cell_type": "code",
     "collapsed": false,
     "input": [
      "pytest.main('-k register')"
     ],
     "language": "python",
     "metadata": {},
     "outputs": [
      {
       "output_type": "stream",
       "stream": "stdout",
       "text": [
        "============================================================ test session starts ============================================================"
       ]
      },
      {
       "output_type": "stream",
       "stream": "stdout",
       "text": [
        "\n"
       ]
      },
      {
       "output_type": "stream",
       "stream": "stdout",
       "text": [
        "platform darwin -- Python 2.7.6 -- py-1.4.26 -- pytest-2.6.4"
       ]
      },
      {
       "output_type": "stream",
       "stream": "stdout",
       "text": [
        "\n"
       ]
      },
      {
       "output_type": "stream",
       "stream": "stdout",
       "text": [
        "collected 4 items"
       ]
      },
      {
       "output_type": "stream",
       "stream": "stdout",
       "text": [
        "\n"
       ]
      },
      {
       "output_type": "stream",
       "stream": "stdout",
       "text": [
        "\n"
       ]
      },
      {
       "output_type": "stream",
       "stream": "stdout",
       "text": [
        "test_minitwit.py "
       ]
      },
      {
       "output_type": "stream",
       "stream": "stdout",
       "text": [
        "."
       ]
      },
      {
       "output_type": "stream",
       "stream": "stdout",
       "text": [
        "\n"
       ]
      },
      {
       "output_type": "stream",
       "stream": "stdout",
       "text": [
        "\n"
       ]
      },
      {
       "output_type": "stream",
       "stream": "stdout",
       "text": [
        "==================================================== 3 tests deselected by '-kregister' ====================================================="
       ]
      },
      {
       "output_type": "stream",
       "stream": "stdout",
       "text": [
        "\n"
       ]
      },
      {
       "output_type": "stream",
       "stream": "stdout",
       "text": [
        "================================================== 1 passed, 3 deselected in 0.22 seconds ==================================================="
       ]
      },
      {
       "output_type": "stream",
       "stream": "stdout",
       "text": [
        "\n"
       ]
      },
      {
       "metadata": {},
       "output_type": "pyout",
       "prompt_number": 6,
       "text": [
        "0"
       ]
      }
     ],
     "prompt_number": 6
    },
    {
     "cell_type": "markdown",
     "metadata": {},
     "source": [
      "## Create a test for logging in and logging out\n",
      "- Checks basic success case\n",
      "- Checks that passwords are validated properly\n",
      "- Checks that usernames are validated properly"
     ]
    },
    {
     "cell_type": "code",
     "collapsed": false,
     "input": [
      "def test_login_logout(client):\n",
      "    \"\"\"Make sure logging in and logging out works\"\"\"\n",
      "    rv = register_and_login(client, 'user1', 'default')\n",
      "    assert b'You were logged in' in rv.data\n",
      "    rv = logout(client)\n",
      "    assert b'You were logged out' in rv.data\n",
      "    rv = login(client, 'user1', 'wrongpassword')\n",
      "    assert b'Invalid password' in rv.data\n",
      "    rv = login(client, 'user2', 'wrongpassword')\n",
      "    assert b'Invalid username' in rv.data"
     ],
     "language": "python",
     "metadata": {},
     "outputs": [],
     "prompt_number": 5
    },
    {
     "cell_type": "code",
     "collapsed": false,
     "input": [
      "pytest.main('-k login_logout')"
     ],
     "language": "python",
     "metadata": {},
     "outputs": [
      {
       "output_type": "stream",
       "stream": "stdout",
       "text": [
        "============================================================ test session starts ============================================================"
       ]
      },
      {
       "output_type": "stream",
       "stream": "stdout",
       "text": [
        "\n"
       ]
      },
      {
       "output_type": "stream",
       "stream": "stdout",
       "text": [
        "platform darwin -- Python 2.7.6 -- py-1.4.26 -- pytest-2.6.4"
       ]
      },
      {
       "output_type": "stream",
       "stream": "stdout",
       "text": [
        "\n"
       ]
      },
      {
       "output_type": "stream",
       "stream": "stdout",
       "text": [
        "collected 4 items"
       ]
      },
      {
       "output_type": "stream",
       "stream": "stdout",
       "text": [
        "\n"
       ]
      },
      {
       "output_type": "stream",
       "stream": "stdout",
       "text": [
        "\n"
       ]
      },
      {
       "output_type": "stream",
       "stream": "stdout",
       "text": [
        "test_minitwit.py "
       ]
      },
      {
       "output_type": "stream",
       "stream": "stdout",
       "text": [
        "."
       ]
      },
      {
       "output_type": "stream",
       "stream": "stdout",
       "text": [
        "\n"
       ]
      },
      {
       "output_type": "stream",
       "stream": "stdout",
       "text": [
        "\n"
       ]
      },
      {
       "output_type": "stream",
       "stream": "stdout",
       "text": [
        "================================================== 3 tests deselected by '-klogin_logout' ==================================================="
       ]
      },
      {
       "output_type": "stream",
       "stream": "stdout",
       "text": [
        "\n"
       ]
      },
      {
       "output_type": "stream",
       "stream": "stdout",
       "text": [
        "================================================== 1 passed, 3 deselected in 0.31 seconds ==================================================="
       ]
      },
      {
       "output_type": "stream",
       "stream": "stdout",
       "text": [
        "\n"
       ]
      },
      {
       "metadata": {},
       "output_type": "pyout",
       "prompt_number": 5,
       "text": [
        "0"
       ]
      }
     ],
     "prompt_number": 5
    },
    {
     "cell_type": "code",
     "collapsed": false,
     "input": [],
     "language": "python",
     "metadata": {},
     "outputs": []
    }
   ],
   "metadata": {}
  }
 ]
}